{
  "nbformat": 4,
  "nbformat_minor": 0,
  "metadata": {
    "colab": {
      "provenance": []
    },
    "kernelspec": {
      "name": "python3",
      "display_name": "Python 3"
    },
    "language_info": {
      "name": "python"
    }
  },
  "cells": [
    {
      "cell_type": "markdown",
      "source": [
        "**STATISTICS ASSIGNMENT-4**\n",
        "\n",
        "Name: Om J. Gaydhane\n",
        "\n",
        "DIV       : D11AD \n",
        "\n",
        "Roll No : 15"
      ],
      "metadata": {
        "id": "SzSQ3dT1fApr"
      }
    },
    {
      "cell_type": "code",
      "execution_count": null,
      "metadata": {
        "id": "WrePZFCcRq0p"
      },
      "outputs": [],
      "source": [
        "import pandas as pd\n",
        "import numpy as np\n",
        "import matplotlib.pyplot as plt\n",
        "import seaborn as sns\n",
        "import statistics\n",
        "import csv\n",
        "from statistics import mode\n",
        "from matplotlib import pyplot as plt\n",
        "import matplotlib.pyplot as plt"
      ]
    },
    {
      "cell_type": "code",
      "source": [
        "df = pd.read_csv('stats.csv')"
      ],
      "metadata": {
        "id": "Uqz1uNSYR9bP"
      },
      "execution_count": null,
      "outputs": []
    },
    {
      "cell_type": "code",
      "source": [
        "df\n",
        "X = df['Sr_No_of_word']\n",
        "X"
      ],
      "metadata": {
        "colab": {
          "base_uri": "https://localhost:8080/"
        },
        "id": "ZMIkABwmSA5z",
        "outputId": "1c77d047-12d4-445d-f546-5c48d4d1908c"
      },
      "execution_count": null,
      "outputs": [
        {
          "output_type": "execute_result",
          "data": {
            "text/plain": [
              "0        1\n",
              "1        2\n",
              "2        3\n",
              "3        4\n",
              "4        5\n",
              "      ... \n",
              "263    264\n",
              "264    265\n",
              "265    266\n",
              "266    267\n",
              "267    268\n",
              "Name: Sr_No_of_word, Length: 268, dtype: int64"
            ]
          },
          "metadata": {},
          "execution_count": 9
        }
      ]
    },
    {
      "cell_type": "code",
      "source": [
        "Y = df['Letters_in_word']\n",
        "Y"
      ],
      "metadata": {
        "colab": {
          "base_uri": "https://localhost:8080/"
        },
        "id": "PXzhvOswVxtm",
        "outputId": "5247d2d7-d0fd-445f-fa07-c5954f76c2cc"
      },
      "execution_count": null,
      "outputs": [
        {
          "output_type": "execute_result",
          "data": {
            "text/plain": [
              "0      4\n",
              "1      5\n",
              "2      3\n",
              "3      5\n",
              "4      5\n",
              "      ..\n",
              "263    3\n",
              "264    6\n",
              "265    4\n",
              "266    3\n",
              "267    5\n",
              "Name: Letters_in_word, Length: 268, dtype: int64"
            ]
          },
          "metadata": {},
          "execution_count": 10
        }
      ]
    },
    {
      "cell_type": "markdown",
      "source": [
        "**Q1.**\n",
        "\n",
        "         Find Mean, Mode, Median, Variance, Standard Deviation of the above population."
      ],
      "metadata": {
        "id": "odcA2qX8fYzq"
      }
    },
    {
      "cell_type": "code",
      "source": [
        "file = open(\"GA.csv\", \"r\")\n",
        "data = list(csv.reader(file, delimiter = \",\"))"
      ],
      "metadata": {
        "id": "PGqSzAEAhFo9"
      },
      "execution_count": null,
      "outputs": []
    },
    {
      "cell_type": "code",
      "source": [
        "print(data)\n",
        "float_list = list(np.float_(data))\n",
        "v = np.array(float_list)"
      ],
      "metadata": {
        "colab": {
          "base_uri": "https://localhost:8080/"
        },
        "id": "mDxRO8pRfYJb",
        "outputId": "0d55444f-6cb3-41b7-d2d4-3d5bd8dd5d65"
      },
      "execution_count": null,
      "outputs": [
        {
          "output_type": "stream",
          "name": "stdout",
          "text": [
            "[['4'], ['5'], ['3'], ['5'], ['5'], ['3'], ['3'], ['7'], ['7'], ['5'], ['4'], ['4'], ['9'], ['1'], ['3'], ['6'], ['9'], ['2'], ['7'], ['3'], ['9'], ['2'], ['3'], ['11'], ['4'], ['3'], ['3'], ['3'], ['7'], ['5'], ['3'], ['2'], ['3'], ['7'], ['2'], ['1'], ['5'], ['5'], ['3'], ['7'], ['7'], ['4'], ['6'], ['2'], ['3'], ['6'], ['2'], ['9'], ['3'], ['2'], ['9'], ['3'], ['4'], ['6'], ['2'], ['3'], ['3'], ['2'], ['1'], ['5'], ['11'], ['2'], ['4'], ['3'], ['2'], ['4'], ['4'], ['2'], ['8'], ['1'], ['7'], ['2'], ['4'], ['5'], ['2'], ['1'], ['5'], ['7'], ['5'], ['3'], ['5'], ['3'], ['4'], ['4'], ['5'], ['5'], ['4'], ['4'], ['6'], ['5'], ['4'], ['2'], ['2'], ['10'], ['7'], ['3'], ['6'], ['4'], ['2'], ['5'], ['2'], ['4'], ['3'], ['2'], ['1'], ['6'], ['5'], ['2'], ['6'], ['8'], ['2'], ['6'], ['10'], ['2'], ['6'], ['6'], ['4'], ['6'], ['3'], ['5'], ['3'], ['6'], ['3'], ['4'], ['3'], ['9'], ['4'], ['4'], ['11'], ['2'], ['3'], ['5'], ['3'], ['4'], ['5'], ['2'], ['3'], ['2'], ['7'], ['3'], ['5'], ['4'], ['6'], ['4'], ['3'], ['4'], ['8'], ['4'], ['2'], ['3'], ['4'], ['3'], ['2'], ['3'], ['5'], ['6'], ['4'], ['4'], ['3'], ['4'], ['2'], ['2'], ['3'], ['2'], ['3'], ['6'], ['6'], ['2'], ['2'], ['9'], ['4'], ['2'], ['3'], ['10'], ['4'], ['5'], ['4'], ['3'], ['6'], ['4'], ['4'], ['4'], ['3'], ['2'], ['5'], ['8'], ['2'], ['2'], ['6'], ['3'], ['2'], ['2'], ['2'], ['4'], ['9'], ['2'], ['3'], ['5'], ['4'], ['9'], ['6'], ['2'], ['4'], ['4'], ['5'], ['7'], ['4'], ['2'], ['4'], ['9'], ['8'], ['2'], ['4'], ['5'], ['3'], ['5'], ['4'], ['4'], ['3'], ['4'], ['4'], ['7'], ['2'], ['8'], ['4'], ['2'], ['4'], ['6'], ['7'], ['4'], ['5'], ['4'], ['5'], ['3'], ['4'], ['4'], ['2'], ['4'], ['4'], ['4'], ['6'], ['5'], ['3'], ['5'], ['4'], ['1'], ['3'], ['5'], ['2'], ['7'], ['3'], ['4'], ['10'], ['2'], ['3'], ['6'], ['2'], ['3'], ['6'], ['3'], ['3'], ['6'], ['5'], ['3'], ['6'], ['4'], ['3'], ['5']]\n"
          ]
        }
      ]
    },
    {
      "cell_type": "code",
      "source": [
        "\n",
        "print(\"Mean: \",v.mean()) \n",
        "print(\"Standard Deviation: \",v.std())\n",
        "df1 = pd.DataFrame(float_list)\n",
        "print(\"Mode: \",df1.mode())\n",
        "print(\"Median: \",statistics.median(float_list))\n",
        "print(\"Variance: \",np.var(float_list))"
      ],
      "metadata": {
        "colab": {
          "base_uri": "https://localhost:8080/"
        },
        "id": "GfEbg-pViVsa",
        "outputId": "542eefab-87ac-449f-8f74-27c639fa20aa"
      },
      "execution_count": null,
      "outputs": [
        {
          "output_type": "stream",
          "name": "stdout",
          "text": [
            "Mean:  4.291044776119403\n",
            "Standard Deviation:  2.1171814087125567\n",
            "Mode:       0\n",
            "0  4.0\n",
            "Median:  [4.]\n",
            "Variance:  4.482457117398085\n"
          ]
        }
      ]
    },
    {
      "cell_type": "markdown",
      "source": [
        "**Q2.**\n",
        "\n",
        "         Find 10th, 25th, 50th, 75th , 90th percentile for the above data."
      ],
      "metadata": {
        "id": "ccYzgck1ffSf"
      }
    },
    {
      "cell_type": "code",
      "source": [
        "arr = np.array(float_list)\n",
        "print(\"10th percentile of arr : \",np.percentile(arr, 10))\n",
        "print(\"25th percentile of arr : \",np.percentile(arr, 25))\n",
        "print(\"50th percentile of arr : \",np.percentile(arr, 50))\n",
        "print(\"75th percentile of arr : \",np.percentile(arr, 75))\n",
        "print(\"90th percentile of arr : \",np.percentile(arr, 90))"
      ],
      "metadata": {
        "colab": {
          "base_uri": "https://localhost:8080/"
        },
        "id": "6xX_HYi8ffpj",
        "outputId": "55787497-d676-4e1c-f842-31d86ed21cbf"
      },
      "execution_count": null,
      "outputs": [
        {
          "output_type": "stream",
          "name": "stdout",
          "text": [
            "10th percentile of arr :  2.0\n",
            "25th percentile of arr :  3.0\n",
            "50th percentile of arr :  4.0\n",
            "75th percentile of arr :  5.0\n",
            "90th percentile of arr :  7.0\n"
          ]
        }
      ]
    },
    {
      "cell_type": "markdown",
      "source": [
        "**Q3.**\n",
        "\n",
        "        Plot Bar chart & Histogram for the above population."
      ],
      "metadata": {
        "id": "5b5YO3NuYN9c"
      }
    },
    {
      "cell_type": "code",
      "source": [
        "plt.bar(X,Y,color ='maroon',width = 0.4)"
      ],
      "metadata": {
        "colab": {
          "base_uri": "https://localhost:8080/",
          "height": 282
        },
        "id": "YI0jdquvSBR6",
        "outputId": "74d1bea5-24c2-42be-ca84-3c36c01d0296"
      },
      "execution_count": null,
      "outputs": [
        {
          "output_type": "execute_result",
          "data": {
            "text/plain": [
              "<BarContainer object of 268 artists>"
            ]
          },
          "metadata": {},
          "execution_count": 16
        },
        {
          "output_type": "display_data",
          "data": {
            "text/plain": [
              "<Figure size 432x288 with 1 Axes>"
            ],
            "image/png": "[encoded data removed]"
          },
          "metadata": {
            "needs_background": "light"
          }
        }
      ]
    },
    {
      "cell_type": "code",
      "source": [
        "ax = (Y).plot.hist(figsize=(4, 4))\n",
        "ax.set_xlabel('Letters in Word')\n",
        "\n",
        "plt.tight_layout()\n",
        "plt.show()"
      ],
      "metadata": {
        "colab": {
          "base_uri": "https://localhost:8080/",
          "height": 297
        },
        "id": "U_bwcFljWEUA",
        "outputId": "81aeb374-ff67-4f7f-a62b-592fc945ec1d"
      },
      "execution_count": null,
      "outputs": [
        {
          "output_type": "display_data",
          "data": {
            "text/plain": [
              "<Figure size 288x288 with 1 Axes>"
            ],
            "image/png": "[encoded data removed]"
          },
          "metadata": {
            "needs_background": "light"
          }
        }
      ]
    },
    {
      "cell_type": "markdown",
      "source": [
        "**Q4.**\n",
        "\n",
        "\n",
        "         Plot Scattered Plot for above population. \n",
        "         Find correlation coefficient between Col-1 & Col-2."
      ],
      "metadata": {
        "id": "_WOgffaBYZN8"
      }
    },
    {
      "cell_type": "code",
      "source": [
        "print(df.corr())"
      ],
      "metadata": {
        "colab": {
          "base_uri": "https://localhost:8080/"
        },
        "id": "HDcpRoh2Y5mz",
        "outputId": "a82ce4f6-5e79-4505-90be-0f8b47976926"
      },
      "execution_count": null,
      "outputs": [
        {
          "output_type": "stream",
          "name": "stdout",
          "text": [
            "                 Sr_No_of_word  Letters_in_word\n",
            "Sr_No_of_word         1.000000        -0.033693\n",
            "Letters_in_word      -0.033693         1.000000\n"
          ]
        }
      ]
    },
    {
      "cell_type": "code",
      "source": [
        "df.corr()"
      ],
      "metadata": {
        "colab": {
          "base_uri": "https://localhost:8080/",
          "height": 112
        },
        "id": "d6MHAljBawx5",
        "outputId": "e6d3ad09-1832-46cd-9151-382c8197d9c9"
      },
      "execution_count": null,
      "outputs": [
        {
          "output_type": "execute_result",
          "data": {
            "text/plain": [
              "                 Sr_No_of_word  Letters_in_word\n",
              "Sr_No_of_word         1.000000        -0.033693\n",
              "Letters_in_word      -0.033693         1.000000"
            ],
            "text/html": [
              "\n",
              "  <div id=\"df-c3892fe3-1c35-4d90-8713-4d986fec70eb\">\n",
              "    <div class=\"colab-df-container\">\n",
              "      <div>\n",
              "<style scoped>\n",
              "    .dataframe tbody tr th:only-of-type {\n",
              "        vertical-align: middle;\n",
              "    }\n",
              "\n",
              "    .dataframe tbody tr th {\n",
              "        vertical-align: top;\n",
              "    }\n",
              "\n",
              "    .dataframe thead th {\n",
              "        text-align: right;\n",
              "    }\n",
              "</style>\n",
              "<table border=\"1\" class=\"dataframe\">\n",
              "  <thead>\n",
              "    <tr style=\"text-align: right;\">\n",
              "      <th></th>\n",
              "      <th>Sr_No_of_word</th>\n",
              "      <th>Letters_in_word</th>\n",
              "    </tr>\n",
              "  </thead>\n",
              "  <tbody>\n",
              "    <tr>\n",
              "      <th>Sr_No_of_word</th>\n",
              "      <td>1.000000</td>\n",
              "      <td>-0.033693</td>\n",
              "    </tr>\n",
              "    <tr>\n",
              "      <th>Letters_in_word</th>\n",
              "      <td>-0.033693</td>\n",
              "      <td>1.000000</td>\n",
              "    </tr>\n",
              "  </tbody>\n",
              "</table>\n",
              "</div>\n",
              "      <button class=\"colab-df-convert\" onclick=\"convertToInteractive('df-c3892fe3-1c35-4d90-8713-4d986fec70eb')\"\n",
              "              title=\"Convert this dataframe to an interactive table.\"\n",
              "              style=\"display:none;\">\n",
              "        \n",
              "  <svg xmlns=\"http://www.w3.org/2000/svg\" height=\"24px\"viewBox=\"0 0 24 24\"\n",
              "       width=\"24px\">\n",
              "    <path d=\"M0 0h24v24H0V0z\" fill=\"none\"/>\n",
              "    <path d=\"M18.56 5.44l.94 2.06.94-2.06 2.06-.94-2.06-.94-.94-2.06-.94 2.06-2.06.94zm-11 1L8.5 8.5l.94-2.06 2.06-.94-2.06-.94L8.5 2.5l-.94 2.06-2.06.94zm10 10l.94 2.06.94-2.06 2.06-.94-2.06-.94-.94-2.06-.94 2.06-2.06.94z\"/><path d=\"M17.41 7.96l-1.37-1.37c-.4-.4-.92-.59-1.43-.59-.52 0-1.04.2-1.43.59L10.3 9.45l-7.72 7.72c-.78.78-.78 2.05 0 2.83L4 21.41c.39.39.9.59 1.41.59.51 0 1.02-.2 1.41-.59l7.78-7.78 2.81-2.81c.8-.78.8-2.07 0-2.86zM5.41 20L4 18.59l7.72-7.72 1.47 1.35L5.41 20z\"/>\n",
              "  </svg>\n",
              "      </button>\n",
              "      \n",
              "  <style>\n",
              "    .colab-df-container {\n",
              "      display:flex;\n",
              "      flex-wrap:wrap;\n",
              "      gap: 12px;\n",
              "    }\n",
              "\n",
              "    .colab-df-convert {\n",
              "      background-color: #E8F0FE;\n",
              "      border: none;\n",
              "      border-radius: 50%;\n",
              "      cursor: pointer;\n",
              "      display: none;\n",
              "      fill: #1967D2;\n",
              "      height: 32px;\n",
              "      padding: 0 0 0 0;\n",
              "      width: 32px;\n",
              "    }\n",
              "\n",
              "    .colab-df-convert:hover {\n",
              "      background-color: #E2EBFA;\n",
              "      box-shadow: 0px 1px 2px rgba(60, 64, 67, 0.3), 0px 1px 3px 1px rgba(60, 64, 67, 0.15);\n",
              "      fill: #174EA6;\n",
              "    }\n",
              "\n",
              "    [theme=dark] .colab-df-convert {\n",
              "      background-color: #3B4455;\n",
              "      fill: #D2E3FC;\n",
              "    }\n",
              "\n",
              "    [theme=dark] .colab-df-convert:hover {\n",
              "      background-color: #434B5C;\n",
              "      box-shadow: 0px 1px 3px 1px rgba(0, 0, 0, 0.15);\n",
              "      filter: drop-shadow(0px 1px 2px rgba(0, 0, 0, 0.3));\n",
              "      fill: #FFFFFF;\n",
              "    }\n",
              "  </style>\n",
              "\n",
              "      <script>\n",
              "        const buttonEl =\n",
              "          document.querySelector('#df-c3892fe3-1c35-4d90-8713-4d986fec70eb button.colab-df-convert');\n",
              "        buttonEl.style.display =\n",
              "          google.colab.kernel.accessAllowed ? 'block' : 'none';\n",
              "\n",
              "        async function convertToInteractive(key) {\n",
              "          const element = document.querySelector('#df-c3892fe3-1c35-4d90-8713-4d986fec70eb');\n",
              "          const dataTable =\n",
              "            await google.colab.kernel.invokeFunction('convertToInteractive',\n",
              "                                                     [key], {});\n",
              "          if (!dataTable) return;\n",
              "\n",
              "          const docLinkHtml = 'Like what you see? Visit the ' +\n",
              "            '<a target=\"_blank\" href=https://colab.research.google.com/notebooks/data_table.ipynb>data table notebook</a>'\n",
              "            + ' to learn more about interactive tables.';\n",
              "          element.innerHTML = '';\n",
              "          dataTable['output_type'] = 'display_data';\n",
              "          await google.colab.output.renderOutput(dataTable, element);\n",
              "          const docLink = document.createElement('div');\n",
              "          docLink.innerHTML = docLinkHtml;\n",
              "          element.appendChild(docLink);\n",
              "        }\n",
              "      </script>\n",
              "    </div>\n",
              "  </div>\n",
              "  "
            ]
          },
          "metadata": {},
          "execution_count": 32
        }
      ]
    },
    {
      "cell_type": "code",
      "source": [
        "fig, ax = plt.subplots(figsize=(5, 4))\n",
        "ax = sns.heatmap(df.corr(), vmin=-1, vmax=1, \n",
        "                 cmap=sns.diverging_palette(20, 220, as_cmap=True),\n",
        "                 ax=ax)\n",
        "\n",
        "plt.tight_layout()\n",
        "plt.show()"
      ],
      "metadata": {
        "colab": {
          "base_uri": "https://localhost:8080/",
          "height": 297
        },
        "id": "XUuql7Vxa9P5",
        "outputId": "838126a7-ea55-4296-ac81-7585c79577d8"
      },
      "execution_count": null,
      "outputs": [
        {
          "output_type": "display_data",
          "data": {
            "text/plain": [
              "<Figure size 360x288 with 2 Axes>"
            ],
            "image/png": "[encoded data removed]"
          },
          "metadata": {
            "needs_background": "light"
          }
        }
      ]
    },
    {
      "cell_type": "code",
      "source": [
        "from matplotlib.collections import EllipseCollection\n",
        "from matplotlib.colors import Normalize\n",
        "\n",
        "def plot_corr_ellipses(data, figsize=None, **kwargs):\n",
        "    ''' https://stackoverflow.com/a/34558488 '''\n",
        "    M = np.array(data)\n",
        "    if not M.ndim == 2:\n",
        "        raise ValueError('data must be a 2D array')\n",
        "    fig, ax = plt.subplots(1, 1, figsize=figsize, subplot_kw={'aspect':'equal'})\n",
        "    ax.set_xlim(-0.5, M.shape[1] - 0.5)\n",
        "    ax.set_ylim(-0.5, M.shape[0] - 0.5)\n",
        "    ax.invert_yaxis()\n",
        "\n",
        "    # xy locations of each ellipse center\n",
        "    xy = np.indices(M.shape)[::-1].reshape(2, -1).T\n",
        "\n",
        "    # set the relative sizes of the major/minor axes according to the strength of\n",
        "    # the positive/negative correlation\n",
        "    w = np.ones_like(M).ravel() + 0.01\n",
        "    h = 1 - np.abs(M).ravel() - 0.01\n",
        "    a = 45 * np.sign(M).ravel()\n",
        "\n",
        "    ec = EllipseCollection(widths=w, heights=h, angles=a, units='x', offsets=xy,\n",
        "                           norm=Normalize(vmin=-1, vmax=1),\n",
        "                           transOffset=ax.transData, array=M.ravel(), **kwargs)\n",
        "    ax.add_collection(ec)\n",
        "\n",
        "    # if data is a DataFrame, use the row/column names as tick labels\n",
        "    if isinstance(data, pd.DataFrame):\n",
        "        ax.set_xticks(np.arange(M.shape[1]))\n",
        "        ax.set_xticklabels(data.columns, rotation=90)\n",
        "        ax.set_yticks(np.arange(M.shape[0]))\n",
        "        ax.set_yticklabels(data.index)\n",
        "\n",
        "    return ec, ax\n",
        "\n",
        "m, ax = plot_corr_ellipses(df.corr(), figsize=(5, 4), cmap='bwr_r')\n",
        "cb = fig.colorbar(m, ax=ax)\n",
        "cb.set_label('Correlation coefficient')\n",
        "\n",
        "plt.tight_layout()\n",
        "plt.show()"
      ],
      "metadata": {
        "colab": {
          "base_uri": "https://localhost:8080/",
          "height": 297
        },
        "id": "Jrsy_yC7bZu6",
        "outputId": "38e60d59-4e7b-4438-882d-8e7ce04b0747"
      },
      "execution_count": null,
      "outputs": [
        {
          "output_type": "display_data",
          "data": {
            "text/plain": [
              "<Figure size 360x288 with 2 Axes>"
            ],
            "image/png": "[encoded data removed]"
          },
          "metadata": {
            "needs_background": "light"
          }
        }
      ]
    },
    {
      "cell_type": "code",
      "source": [
        "plt.scatter(X,Y)"
      ],
      "metadata": {
        "colab": {
          "base_uri": "https://localhost:8080/",
          "height": 282
        },
        "id": "ZKvysiDybjBu",
        "outputId": "cd408435-5df1-43d1-f823-fe5f1c120dae"
      },
      "execution_count": null,
      "outputs": [
        {
          "output_type": "execute_result",
          "data": {
            "text/plain": [
              "<matplotlib.collections.PathCollection at 0x7ff656c61350>"
            ]
          },
          "metadata": {},
          "execution_count": 36
        },
        {
          "output_type": "display_data",
          "data": {
            "text/plain": [
              "<Figure size 432x288 with 1 Axes>"
            ],
            "image/png": "[encoded data removed]"
          },
          "metadata": {
            "needs_background": "light"
          }
        }
      ]
    },
    {
      "cell_type": "markdown",
      "source": [
        "**Q5.**\n",
        "\n",
        "        Draw box plot for above population."
      ],
      "metadata": {
        "id": "VnxE7pBocBL1"
      }
    },
    {
      "cell_type": "code",
      "source": [
        "ax = (Y).plot.box(figsize=(3, 4))\n",
        "ax.set_ylabel('Letters in Word')\n",
        "plt.tight_layout()\n",
        "plt.show()"
      ],
      "metadata": {
        "colab": {
          "base_uri": "https://localhost:8080/",
          "height": 297
        },
        "id": "0BHxnglVb948",
        "outputId": "9f99f7d3-bdba-43b9-fecf-c44129a852cd"
      },
      "execution_count": null,
      "outputs": [
        {
          "output_type": "display_data",
          "data": {
            "text/plain": [
              "<Figure size 216x288 with 1 Axes>"
            ],
            "image/png": "[encoded data removed]"
          },
          "metadata": {
            "needs_background": "light"
          }
        }
      ]
    },
    {
      "cell_type": "markdown",
      "source": [
        "**Q6.**\n",
        "\n",
        "    Prints word numbers whose\n",
        "        a. Letters are less than or equal to 4\n",
        "        b. Letters are less than or equal to 10"
      ],
      "metadata": {
        "id": "0saiygGEcmBc"
      }
    },
    {
      "cell_type": "code",
      "source": [
        "#a.\n",
        "for i in v:\n",
        "  if i < 5:\n",
        "    print(X[i])"
      ],
      "metadata": {
        "colab": {
          "base_uri": "https://localhost:8080/"
        },
        "id": "nEVK1GGUc9u-",
        "outputId": "6c4112da-0dc8-4eee-b7fc-55bcdf589e3e"
      },
      "execution_count": null,
      "outputs": [
        {
          "output_type": "stream",
          "name": "stdout",
          "text": [
            "4.0    5\n",
            "Name: Sr_No_of_word, dtype: int64\n",
            "3.0    4\n",
            "Name: Sr_No_of_word, dtype: int64\n",
            "3.0    4\n",
            "Name: Sr_No_of_word, dtype: int64\n",
            "3.0    4\n",
            "Name: Sr_No_of_word, dtype: int64\n",
            "4.0    5\n",
            "Name: Sr_No_of_word, dtype: int64\n",
            "4.0    5\n",
            "Name: Sr_No_of_word, dtype: int64\n",
            "1.0    2\n",
            "Name: Sr_No_of_word, dtype: int64\n",
            "3.0    4\n",
            "Name: Sr_No_of_word, dtype: int64\n",
            "2.0    3\n",
            "Name: Sr_No_of_word, dtype: int64\n",
            "3.0    4\n",
            "Name: Sr_No_of_word, dtype: int64\n",
            "2.0    3\n",
            "Name: Sr_No_of_word, dtype: int64\n",
            "3.0    4\n",
            "Name: Sr_No_of_word, dtype: int64\n",
            "4.0    5\n",
            "Name: Sr_No_of_word, dtype: int64\n",
            "3.0    4\n",
            "Name: Sr_No_of_word, dtype: int64\n",
            "3.0    4\n",
            "Name: Sr_No_of_word, dtype: int64\n",
            "3.0    4\n",
            "Name: Sr_No_of_word, dtype: int64\n",
            "3.0    4\n",
            "Name: Sr_No_of_word, dtype: int64\n",
            "2.0    3\n",
            "Name: Sr_No_of_word, dtype: int64\n",
            "3.0    4\n",
            "Name: Sr_No_of_word, dtype: int64\n",
            "2.0    3\n",
            "Name: Sr_No_of_word, dtype: int64\n",
            "1.0    2\n",
            "Name: Sr_No_of_word, dtype: int64\n",
            "3.0    4\n",
            "Name: Sr_No_of_word, dtype: int64\n",
            "4.0    5\n",
            "Name: Sr_No_of_word, dtype: int64\n",
            "2.0    3\n",
            "Name: Sr_No_of_word, dtype: int64\n",
            "3.0    4\n",
            "Name: Sr_No_of_word, dtype: int64\n",
            "2.0    3\n",
            "Name: Sr_No_of_word, dtype: int64\n",
            "3.0    4\n",
            "Name: Sr_No_of_word, dtype: int64\n",
            "2.0    3\n",
            "Name: Sr_No_of_word, dtype: int64\n",
            "3.0    4\n",
            "Name: Sr_No_of_word, dtype: int64\n",
            "4.0    5\n",
            "Name: Sr_No_of_word, dtype: int64\n",
            "2.0    3\n",
            "Name: Sr_No_of_word, dtype: int64\n",
            "3.0    4\n",
            "Name: Sr_No_of_word, dtype: int64\n",
            "3.0    4\n",
            "Name: Sr_No_of_word, dtype: int64\n",
            "2.0    3\n",
            "Name: Sr_No_of_word, dtype: int64\n",
            "1.0    2\n",
            "Name: Sr_No_of_word, dtype: int64\n",
            "2.0    3\n",
            "Name: Sr_No_of_word, dtype: int64\n",
            "4.0    5\n",
            "Name: Sr_No_of_word, dtype: int64\n",
            "3.0    4\n",
            "Name: Sr_No_of_word, dtype: int64\n",
            "2.0    3\n",
            "Name: Sr_No_of_word, dtype: int64\n",
            "4.0    5\n",
            "Name: Sr_No_of_word, dtype: int64\n",
            "4.0    5\n",
            "Name: Sr_No_of_word, dtype: int64\n",
            "2.0    3\n",
            "Name: Sr_No_of_word, dtype: int64\n",
            "1.0    2\n",
            "Name: Sr_No_of_word, dtype: int64\n",
            "2.0    3\n",
            "Name: Sr_No_of_word, dtype: int64\n",
            "4.0    5\n",
            "Name: Sr_No_of_word, dtype: int64\n",
            "2.0    3\n",
            "Name: Sr_No_of_word, dtype: int64\n",
            "1.0    2\n",
            "Name: Sr_No_of_word, dtype: int64\n",
            "3.0    4\n",
            "Name: Sr_No_of_word, dtype: int64\n",
            "3.0    4\n",
            "Name: Sr_No_of_word, dtype: int64\n",
            "4.0    5\n",
            "Name: Sr_No_of_word, dtype: int64\n",
            "4.0    5\n",
            "Name: Sr_No_of_word, dtype: int64\n",
            "4.0    5\n",
            "Name: Sr_No_of_word, dtype: int64\n",
            "4.0    5\n",
            "Name: Sr_No_of_word, dtype: int64\n",
            "4.0    5\n",
            "Name: Sr_No_of_word, dtype: int64\n",
            "2.0    3\n",
            "Name: Sr_No_of_word, dtype: int64\n",
            "2.0    3\n",
            "Name: Sr_No_of_word, dtype: int64\n",
            "3.0    4\n",
            "Name: Sr_No_of_word, dtype: int64\n",
            "4.0    5\n",
            "Name: Sr_No_of_word, dtype: int64\n",
            "2.0    3\n",
            "Name: Sr_No_of_word, dtype: int64\n",
            "2.0    3\n",
            "Name: Sr_No_of_word, dtype: int64\n",
            "4.0    5\n",
            "Name: Sr_No_of_word, dtype: int64\n",
            "3.0    4\n",
            "Name: Sr_No_of_word, dtype: int64\n",
            "2.0    3\n",
            "Name: Sr_No_of_word, dtype: int64\n",
            "1.0    2\n",
            "Name: Sr_No_of_word, dtype: int64\n",
            "2.0    3\n",
            "Name: Sr_No_of_word, dtype: int64\n",
            "2.0    3\n",
            "Name: Sr_No_of_word, dtype: int64\n",
            "2.0    3\n",
            "Name: Sr_No_of_word, dtype: int64\n",
            "4.0    5\n",
            "Name: Sr_No_of_word, dtype: int64\n",
            "3.0    4\n",
            "Name: Sr_No_of_word, dtype: int64\n",
            "3.0    4\n",
            "Name: Sr_No_of_word, dtype: int64\n",
            "3.0    4\n",
            "Name: Sr_No_of_word, dtype: int64\n",
            "4.0    5\n",
            "Name: Sr_No_of_word, dtype: int64\n",
            "3.0    4\n",
            "Name: Sr_No_of_word, dtype: int64\n",
            "4.0    5\n",
            "Name: Sr_No_of_word, dtype: int64\n",
            "4.0    5\n",
            "Name: Sr_No_of_word, dtype: int64\n",
            "2.0    3\n",
            "Name: Sr_No_of_word, dtype: int64\n",
            "3.0    4\n",
            "Name: Sr_No_of_word, dtype: int64\n",
            "3.0    4\n",
            "Name: Sr_No_of_word, dtype: int64\n",
            "4.0    5\n",
            "Name: Sr_No_of_word, dtype: int64\n",
            "2.0    3\n",
            "Name: Sr_No_of_word, dtype: int64\n",
            "3.0    4\n",
            "Name: Sr_No_of_word, dtype: int64\n",
            "2.0    3\n",
            "Name: Sr_No_of_word, dtype: int64\n",
            "3.0    4\n",
            "Name: Sr_No_of_word, dtype: int64\n",
            "4.0    5\n",
            "Name: Sr_No_of_word, dtype: int64\n",
            "4.0    5\n",
            "Name: Sr_No_of_word, dtype: int64\n",
            "3.0    4\n",
            "Name: Sr_No_of_word, dtype: int64\n",
            "4.0    5\n",
            "Name: Sr_No_of_word, dtype: int64\n",
            "4.0    5\n",
            "Name: Sr_No_of_word, dtype: int64\n",
            "2.0    3\n",
            "Name: Sr_No_of_word, dtype: int64\n",
            "3.0    4\n",
            "Name: Sr_No_of_word, dtype: int64\n",
            "4.0    5\n",
            "Name: Sr_No_of_word, dtype: int64\n",
            "3.0    4\n",
            "Name: Sr_No_of_word, dtype: int64\n",
            "2.0    3\n",
            "Name: Sr_No_of_word, dtype: int64\n",
            "3.0    4\n",
            "Name: Sr_No_of_word, dtype: int64\n",
            "4.0    5\n",
            "Name: Sr_No_of_word, dtype: int64\n",
            "4.0    5\n",
            "Name: Sr_No_of_word, dtype: int64\n",
            "3.0    4\n",
            "Name: Sr_No_of_word, dtype: int64\n",
            "4.0    5\n",
            "Name: Sr_No_of_word, dtype: int64\n",
            "2.0    3\n",
            "Name: Sr_No_of_word, dtype: int64\n",
            "2.0    3\n",
            "Name: Sr_No_of_word, dtype: int64\n",
            "3.0    4\n",
            "Name: Sr_No_of_word, dtype: int64\n",
            "2.0    3\n",
            "Name: Sr_No_of_word, dtype: int64\n",
            "3.0    4\n",
            "Name: Sr_No_of_word, dtype: int64\n",
            "2.0    3\n",
            "Name: Sr_No_of_word, dtype: int64\n",
            "2.0    3\n",
            "Name: Sr_No_of_word, dtype: int64\n",
            "4.0    5\n",
            "Name: Sr_No_of_word, dtype: int64\n",
            "2.0    3\n",
            "Name: Sr_No_of_word, dtype: int64\n",
            "3.0    4\n",
            "Name: Sr_No_of_word, dtype: int64\n",
            "4.0    5\n",
            "Name: Sr_No_of_word, dtype: int64\n",
            "4.0    5\n",
            "Name: Sr_No_of_word, dtype: int64\n",
            "3.0    4\n",
            "Name: Sr_No_of_word, dtype: int64\n",
            "4.0    5\n",
            "Name: Sr_No_of_word, dtype: int64\n",
            "4.0    5\n",
            "Name: Sr_No_of_word, dtype: int64\n",
            "4.0    5\n",
            "Name: Sr_No_of_word, dtype: int64\n",
            "3.0    4\n",
            "Name: Sr_No_of_word, dtype: int64\n",
            "2.0    3\n",
            "Name: Sr_No_of_word, dtype: int64\n",
            "2.0    3\n",
            "Name: Sr_No_of_word, dtype: int64\n",
            "2.0    3\n",
            "Name: Sr_No_of_word, dtype: int64\n",
            "3.0    4\n",
            "Name: Sr_No_of_word, dtype: int64\n",
            "2.0    3\n",
            "Name: Sr_No_of_word, dtype: int64\n",
            "2.0    3\n",
            "Name: Sr_No_of_word, dtype: int64\n",
            "2.0    3\n",
            "Name: Sr_No_of_word, dtype: int64\n",
            "4.0    5\n",
            "Name: Sr_No_of_word, dtype: int64\n",
            "2.0    3\n",
            "Name: Sr_No_of_word, dtype: int64\n",
            "3.0    4\n",
            "Name: Sr_No_of_word, dtype: int64\n",
            "4.0    5\n",
            "Name: Sr_No_of_word, dtype: int64\n",
            "2.0    3\n",
            "Name: Sr_No_of_word, dtype: int64\n",
            "4.0    5\n",
            "Name: Sr_No_of_word, dtype: int64\n",
            "4.0    5\n",
            "Name: Sr_No_of_word, dtype: int64\n",
            "4.0    5\n",
            "Name: Sr_No_of_word, dtype: int64\n",
            "2.0    3\n",
            "Name: Sr_No_of_word, dtype: int64\n",
            "4.0    5\n",
            "Name: Sr_No_of_word, dtype: int64\n",
            "2.0    3\n",
            "Name: Sr_No_of_word, dtype: int64\n",
            "4.0    5\n",
            "Name: Sr_No_of_word, dtype: int64\n",
            "3.0    4\n",
            "Name: Sr_No_of_word, dtype: int64\n",
            "4.0    5\n",
            "Name: Sr_No_of_word, dtype: int64\n",
            "4.0    5\n",
            "Name: Sr_No_of_word, dtype: int64\n",
            "3.0    4\n",
            "Name: Sr_No_of_word, dtype: int64\n",
            "4.0    5\n",
            "Name: Sr_No_of_word, dtype: int64\n",
            "4.0    5\n",
            "Name: Sr_No_of_word, dtype: int64\n",
            "2.0    3\n",
            "Name: Sr_No_of_word, dtype: int64\n",
            "4.0    5\n",
            "Name: Sr_No_of_word, dtype: int64\n",
            "2.0    3\n",
            "Name: Sr_No_of_word, dtype: int64\n",
            "4.0    5\n",
            "Name: Sr_No_of_word, dtype: int64\n",
            "4.0    5\n",
            "Name: Sr_No_of_word, dtype: int64\n",
            "4.0    5\n",
            "Name: Sr_No_of_word, dtype: int64\n",
            "3.0    4\n",
            "Name: Sr_No_of_word, dtype: int64\n",
            "4.0    5\n",
            "Name: Sr_No_of_word, dtype: int64\n",
            "4.0    5\n",
            "Name: Sr_No_of_word, dtype: int64\n",
            "2.0    3\n",
            "Name: Sr_No_of_word, dtype: int64\n",
            "4.0    5\n",
            "Name: Sr_No_of_word, dtype: int64\n",
            "4.0    5\n",
            "Name: Sr_No_of_word, dtype: int64\n",
            "4.0    5\n",
            "Name: Sr_No_of_word, dtype: int64\n",
            "3.0    4\n",
            "Name: Sr_No_of_word, dtype: int64\n",
            "4.0    5\n",
            "Name: Sr_No_of_word, dtype: int64\n",
            "1.0    2\n",
            "Name: Sr_No_of_word, dtype: int64\n",
            "3.0    4\n",
            "Name: Sr_No_of_word, dtype: int64\n",
            "2.0    3\n",
            "Name: Sr_No_of_word, dtype: int64\n",
            "3.0    4\n",
            "Name: Sr_No_of_word, dtype: int64\n",
            "4.0    5\n",
            "Name: Sr_No_of_word, dtype: int64\n",
            "2.0    3\n",
            "Name: Sr_No_of_word, dtype: int64\n",
            "3.0    4\n",
            "Name: Sr_No_of_word, dtype: int64\n",
            "2.0    3\n",
            "Name: Sr_No_of_word, dtype: int64\n",
            "3.0    4\n",
            "Name: Sr_No_of_word, dtype: int64\n",
            "3.0    4\n",
            "Name: Sr_No_of_word, dtype: int64\n",
            "3.0    4\n",
            "Name: Sr_No_of_word, dtype: int64\n",
            "3.0    4\n",
            "Name: Sr_No_of_word, dtype: int64\n",
            "4.0    5\n",
            "Name: Sr_No_of_word, dtype: int64\n",
            "3.0    4\n",
            "Name: Sr_No_of_word, dtype: int64\n"
          ]
        }
      ]
    },
    {
      "cell_type": "code",
      "source": [
        "for j in v:\n",
        "  if j < 11:\n",
        "    print(X[j])"
      ],
      "metadata": {
        "colab": {
          "base_uri": "https://localhost:8080/"
        },
        "id": "PKRf8olSdOwu",
        "outputId": "436af1ce-9bb0-42a7-d7cd-75bf43ab8ead"
      },
      "execution_count": null,
      "outputs": [
        {
          "output_type": "stream",
          "name": "stdout",
          "text": [
            "4.0    5\n",
            "Name: Sr_No_of_word, dtype: int64\n",
            "5.0    6\n",
            "Name: Sr_No_of_word, dtype: int64\n",
            "3.0    4\n",
            "Name: Sr_No_of_word, dtype: int64\n",
            "5.0    6\n",
            "Name: Sr_No_of_word, dtype: int64\n",
            "5.0    6\n",
            "Name: Sr_No_of_word, dtype: int64\n",
            "3.0    4\n",
            "Name: Sr_No_of_word, dtype: int64\n",
            "3.0    4\n",
            "Name: Sr_No_of_word, dtype: int64\n",
            "7.0    8\n",
            "Name: Sr_No_of_word, dtype: int64\n",
            "7.0    8\n",
            "Name: Sr_No_of_word, dtype: int64\n",
            "5.0    6\n",
            "Name: Sr_No_of_word, dtype: int64\n",
            "4.0    5\n",
            "Name: Sr_No_of_word, dtype: int64\n",
            "4.0    5\n",
            "Name: Sr_No_of_word, dtype: int64\n",
            "9.0    10\n",
            "Name: Sr_No_of_word, dtype: int64\n",
            "1.0    2\n",
            "Name: Sr_No_of_word, dtype: int64\n",
            "3.0    4\n",
            "Name: Sr_No_of_word, dtype: int64\n",
            "6.0    7\n",
            "Name: Sr_No_of_word, dtype: int64\n",
            "9.0    10\n",
            "Name: Sr_No_of_word, dtype: int64\n",
            "2.0    3\n",
            "Name: Sr_No_of_word, dtype: int64\n",
            "7.0    8\n",
            "Name: Sr_No_of_word, dtype: int64\n",
            "3.0    4\n",
            "Name: Sr_No_of_word, dtype: int64\n",
            "9.0    10\n",
            "Name: Sr_No_of_word, dtype: int64\n",
            "2.0    3\n",
            "Name: Sr_No_of_word, dtype: int64\n",
            "3.0    4\n",
            "Name: Sr_No_of_word, dtype: int64\n",
            "4.0    5\n",
            "Name: Sr_No_of_word, dtype: int64\n",
            "3.0    4\n",
            "Name: Sr_No_of_word, dtype: int64\n",
            "3.0    4\n",
            "Name: Sr_No_of_word, dtype: int64\n",
            "3.0    4\n",
            "Name: Sr_No_of_word, dtype: int64\n",
            "7.0    8\n",
            "Name: Sr_No_of_word, dtype: int64\n",
            "5.0    6\n",
            "Name: Sr_No_of_word, dtype: int64\n",
            "3.0    4\n",
            "Name: Sr_No_of_word, dtype: int64\n",
            "2.0    3\n",
            "Name: Sr_No_of_word, dtype: int64\n",
            "3.0    4\n",
            "Name: Sr_No_of_word, dtype: int64\n",
            "7.0    8\n",
            "Name: Sr_No_of_word, dtype: int64\n",
            "2.0    3\n",
            "Name: Sr_No_of_word, dtype: int64\n",
            "1.0    2\n",
            "Name: Sr_No_of_word, dtype: int64\n",
            "5.0    6\n",
            "Name: Sr_No_of_word, dtype: int64\n",
            "5.0    6\n",
            "Name: Sr_No_of_word, dtype: int64\n",
            "3.0    4\n",
            "Name: Sr_No_of_word, dtype: int64\n",
            "7.0    8\n",
            "Name: Sr_No_of_word, dtype: int64\n",
            "7.0    8\n",
            "Name: Sr_No_of_word, dtype: int64\n",
            "4.0    5\n",
            "Name: Sr_No_of_word, dtype: int64\n",
            "6.0    7\n",
            "Name: Sr_No_of_word, dtype: int64\n",
            "2.0    3\n",
            "Name: Sr_No_of_word, dtype: int64\n",
            "3.0    4\n",
            "Name: Sr_No_of_word, dtype: int64\n",
            "6.0    7\n",
            "Name: Sr_No_of_word, dtype: int64\n",
            "2.0    3\n",
            "Name: Sr_No_of_word, dtype: int64\n",
            "9.0    10\n",
            "Name: Sr_No_of_word, dtype: int64\n",
            "3.0    4\n",
            "Name: Sr_No_of_word, dtype: int64\n",
            "2.0    3\n",
            "Name: Sr_No_of_word, dtype: int64\n",
            "9.0    10\n",
            "Name: Sr_No_of_word, dtype: int64\n",
            "3.0    4\n",
            "Name: Sr_No_of_word, dtype: int64\n",
            "4.0    5\n",
            "Name: Sr_No_of_word, dtype: int64\n",
            "6.0    7\n",
            "Name: Sr_No_of_word, dtype: int64\n",
            "2.0    3\n",
            "Name: Sr_No_of_word, dtype: int64\n",
            "3.0    4\n",
            "Name: Sr_No_of_word, dtype: int64\n",
            "3.0    4\n",
            "Name: Sr_No_of_word, dtype: int64\n",
            "2.0    3\n",
            "Name: Sr_No_of_word, dtype: int64\n",
            "1.0    2\n",
            "Name: Sr_No_of_word, dtype: int64\n",
            "5.0    6\n",
            "Name: Sr_No_of_word, dtype: int64\n",
            "2.0    3\n",
            "Name: Sr_No_of_word, dtype: int64\n",
            "4.0    5\n",
            "Name: Sr_No_of_word, dtype: int64\n",
            "3.0    4\n",
            "Name: Sr_No_of_word, dtype: int64\n",
            "2.0    3\n",
            "Name: Sr_No_of_word, dtype: int64\n",
            "4.0    5\n",
            "Name: Sr_No_of_word, dtype: int64\n",
            "4.0    5\n",
            "Name: Sr_No_of_word, dtype: int64\n",
            "2.0    3\n",
            "Name: Sr_No_of_word, dtype: int64\n",
            "8.0    9\n",
            "Name: Sr_No_of_word, dtype: int64\n",
            "1.0    2\n",
            "Name: Sr_No_of_word, dtype: int64\n",
            "7.0    8\n",
            "Name: Sr_No_of_word, dtype: int64\n",
            "2.0    3\n",
            "Name: Sr_No_of_word, dtype: int64\n",
            "4.0    5\n",
            "Name: Sr_No_of_word, dtype: int64\n",
            "5.0    6\n",
            "Name: Sr_No_of_word, dtype: int64\n",
            "2.0    3\n",
            "Name: Sr_No_of_word, dtype: int64\n",
            "1.0    2\n",
            "Name: Sr_No_of_word, dtype: int64\n",
            "5.0    6\n",
            "Name: Sr_No_of_word, dtype: int64\n",
            "7.0    8\n",
            "Name: Sr_No_of_word, dtype: int64\n",
            "5.0    6\n",
            "Name: Sr_No_of_word, dtype: int64\n",
            "3.0    4\n",
            "Name: Sr_No_of_word, dtype: int64\n",
            "5.0    6\n",
            "Name: Sr_No_of_word, dtype: int64\n",
            "3.0    4\n",
            "Name: Sr_No_of_word, dtype: int64\n",
            "4.0    5\n",
            "Name: Sr_No_of_word, dtype: int64\n",
            "4.0    5\n",
            "Name: Sr_No_of_word, dtype: int64\n",
            "5.0    6\n",
            "Name: Sr_No_of_word, dtype: int64\n",
            "5.0    6\n",
            "Name: Sr_No_of_word, dtype: int64\n",
            "4.0    5\n",
            "Name: Sr_No_of_word, dtype: int64\n",
            "4.0    5\n",
            "Name: Sr_No_of_word, dtype: int64\n",
            "6.0    7\n",
            "Name: Sr_No_of_word, dtype: int64\n",
            "5.0    6\n",
            "Name: Sr_No_of_word, dtype: int64\n",
            "4.0    5\n",
            "Name: Sr_No_of_word, dtype: int64\n",
            "2.0    3\n",
            "Name: Sr_No_of_word, dtype: int64\n",
            "2.0    3\n",
            "Name: Sr_No_of_word, dtype: int64\n",
            "10.0    11\n",
            "Name: Sr_No_of_word, dtype: int64\n",
            "7.0    8\n",
            "Name: Sr_No_of_word, dtype: int64\n",
            "3.0    4\n",
            "Name: Sr_No_of_word, dtype: int64\n",
            "6.0    7\n",
            "Name: Sr_No_of_word, dtype: int64\n",
            "4.0    5\n",
            "Name: Sr_No_of_word, dtype: int64\n",
            "2.0    3\n",
            "Name: Sr_No_of_word, dtype: int64\n",
            "5.0    6\n",
            "Name: Sr_No_of_word, dtype: int64\n",
            "2.0    3\n",
            "Name: Sr_No_of_word, dtype: int64\n",
            "4.0    5\n",
            "Name: Sr_No_of_word, dtype: int64\n",
            "3.0    4\n",
            "Name: Sr_No_of_word, dtype: int64\n",
            "2.0    3\n",
            "Name: Sr_No_of_word, dtype: int64\n",
            "1.0    2\n",
            "Name: Sr_No_of_word, dtype: int64\n",
            "6.0    7\n",
            "Name: Sr_No_of_word, dtype: int64\n",
            "5.0    6\n",
            "Name: Sr_No_of_word, dtype: int64\n",
            "2.0    3\n",
            "Name: Sr_No_of_word, dtype: int64\n",
            "6.0    7\n",
            "Name: Sr_No_of_word, dtype: int64\n",
            "8.0    9\n",
            "Name: Sr_No_of_word, dtype: int64\n",
            "2.0    3\n",
            "Name: Sr_No_of_word, dtype: int64\n",
            "6.0    7\n",
            "Name: Sr_No_of_word, dtype: int64\n",
            "10.0    11\n",
            "Name: Sr_No_of_word, dtype: int64\n",
            "2.0    3\n",
            "Name: Sr_No_of_word, dtype: int64\n",
            "6.0    7\n",
            "Name: Sr_No_of_word, dtype: int64\n",
            "6.0    7\n",
            "Name: Sr_No_of_word, dtype: int64\n",
            "4.0    5\n",
            "Name: Sr_No_of_word, dtype: int64\n",
            "6.0    7\n",
            "Name: Sr_No_of_word, dtype: int64\n",
            "3.0    4\n",
            "Name: Sr_No_of_word, dtype: int64\n",
            "5.0    6\n",
            "Name: Sr_No_of_word, dtype: int64\n",
            "3.0    4\n",
            "Name: Sr_No_of_word, dtype: int64\n",
            "6.0    7\n",
            "Name: Sr_No_of_word, dtype: int64\n",
            "3.0    4\n",
            "Name: Sr_No_of_word, dtype: int64\n",
            "4.0    5\n",
            "Name: Sr_No_of_word, dtype: int64\n",
            "3.0    4\n",
            "Name: Sr_No_of_word, dtype: int64\n",
            "9.0    10\n",
            "Name: Sr_No_of_word, dtype: int64\n",
            "4.0    5\n",
            "Name: Sr_No_of_word, dtype: int64\n",
            "4.0    5\n",
            "Name: Sr_No_of_word, dtype: int64\n",
            "2.0    3\n",
            "Name: Sr_No_of_word, dtype: int64\n",
            "3.0    4\n",
            "Name: Sr_No_of_word, dtype: int64\n",
            "5.0    6\n",
            "Name: Sr_No_of_word, dtype: int64\n",
            "3.0    4\n",
            "Name: Sr_No_of_word, dtype: int64\n",
            "4.0    5\n",
            "Name: Sr_No_of_word, dtype: int64\n",
            "5.0    6\n",
            "Name: Sr_No_of_word, dtype: int64\n",
            "2.0    3\n",
            "Name: Sr_No_of_word, dtype: int64\n",
            "3.0    4\n",
            "Name: Sr_No_of_word, dtype: int64\n",
            "2.0    3\n",
            "Name: Sr_No_of_word, dtype: int64\n",
            "7.0    8\n",
            "Name: Sr_No_of_word, dtype: int64\n",
            "3.0    4\n",
            "Name: Sr_No_of_word, dtype: int64\n",
            "5.0    6\n",
            "Name: Sr_No_of_word, dtype: int64\n",
            "4.0    5\n",
            "Name: Sr_No_of_word, dtype: int64\n",
            "6.0    7\n",
            "Name: Sr_No_of_word, dtype: int64\n",
            "4.0    5\n",
            "Name: Sr_No_of_word, dtype: int64\n",
            "3.0    4\n",
            "Name: Sr_No_of_word, dtype: int64\n",
            "4.0    5\n",
            "Name: Sr_No_of_word, dtype: int64\n",
            "8.0    9\n",
            "Name: Sr_No_of_word, dtype: int64\n",
            "4.0    5\n",
            "Name: Sr_No_of_word, dtype: int64\n",
            "2.0    3\n",
            "Name: Sr_No_of_word, dtype: int64\n",
            "3.0    4\n",
            "Name: Sr_No_of_word, dtype: int64\n",
            "4.0    5\n",
            "Name: Sr_No_of_word, dtype: int64\n",
            "3.0    4\n",
            "Name: Sr_No_of_word, dtype: int64\n",
            "2.0    3\n",
            "Name: Sr_No_of_word, dtype: int64\n",
            "3.0    4\n",
            "Name: Sr_No_of_word, dtype: int64\n",
            "5.0    6\n",
            "Name: Sr_No_of_word, dtype: int64\n",
            "6.0    7\n",
            "Name: Sr_No_of_word, dtype: int64\n",
            "4.0    5\n",
            "Name: Sr_No_of_word, dtype: int64\n",
            "4.0    5\n",
            "Name: Sr_No_of_word, dtype: int64\n",
            "3.0    4\n",
            "Name: Sr_No_of_word, dtype: int64\n",
            "4.0    5\n",
            "Name: Sr_No_of_word, dtype: int64\n",
            "2.0    3\n",
            "Name: Sr_No_of_word, dtype: int64\n",
            "2.0    3\n",
            "Name: Sr_No_of_word, dtype: int64\n",
            "3.0    4\n",
            "Name: Sr_No_of_word, dtype: int64\n",
            "2.0    3\n",
            "Name: Sr_No_of_word, dtype: int64\n",
            "3.0    4\n",
            "Name: Sr_No_of_word, dtype: int64\n",
            "6.0    7\n",
            "Name: Sr_No_of_word, dtype: int64\n",
            "6.0    7\n",
            "Name: Sr_No_of_word, dtype: int64\n",
            "2.0    3\n",
            "Name: Sr_No_of_word, dtype: int64\n",
            "2.0    3\n",
            "Name: Sr_No_of_word, dtype: int64\n",
            "9.0    10\n",
            "Name: Sr_No_of_word, dtype: int64\n",
            "4.0    5\n",
            "Name: Sr_No_of_word, dtype: int64\n",
            "2.0    3\n",
            "Name: Sr_No_of_word, dtype: int64\n",
            "3.0    4\n",
            "Name: Sr_No_of_word, dtype: int64\n",
            "10.0    11\n",
            "Name: Sr_No_of_word, dtype: int64\n",
            "4.0    5\n",
            "Name: Sr_No_of_word, dtype: int64\n",
            "5.0    6\n",
            "Name: Sr_No_of_word, dtype: int64\n",
            "4.0    5\n",
            "Name: Sr_No_of_word, dtype: int64\n",
            "3.0    4\n",
            "Name: Sr_No_of_word, dtype: int64\n",
            "6.0    7\n",
            "Name: Sr_No_of_word, dtype: int64\n",
            "4.0    5\n",
            "Name: Sr_No_of_word, dtype: int64\n",
            "4.0    5\n",
            "Name: Sr_No_of_word, dtype: int64\n",
            "4.0    5\n",
            "Name: Sr_No_of_word, dtype: int64\n",
            "3.0    4\n",
            "Name: Sr_No_of_word, dtype: int64\n",
            "2.0    3\n",
            "Name: Sr_No_of_word, dtype: int64\n",
            "5.0    6\n",
            "Name: Sr_No_of_word, dtype: int64\n",
            "8.0    9\n",
            "Name: Sr_No_of_word, dtype: int64\n",
            "2.0    3\n",
            "Name: Sr_No_of_word, dtype: int64\n",
            "2.0    3\n",
            "Name: Sr_No_of_word, dtype: int64\n",
            "6.0    7\n",
            "Name: Sr_No_of_word, dtype: int64\n",
            "3.0    4\n",
            "Name: Sr_No_of_word, dtype: int64\n",
            "2.0    3\n",
            "Name: Sr_No_of_word, dtype: int64\n",
            "2.0    3\n",
            "Name: Sr_No_of_word, dtype: int64\n",
            "2.0    3\n",
            "Name: Sr_No_of_word, dtype: int64\n",
            "4.0    5\n",
            "Name: Sr_No_of_word, dtype: int64\n",
            "9.0    10\n",
            "Name: Sr_No_of_word, dtype: int64\n",
            "2.0    3\n",
            "Name: Sr_No_of_word, dtype: int64\n",
            "3.0    4\n",
            "Name: Sr_No_of_word, dtype: int64\n",
            "5.0    6\n",
            "Name: Sr_No_of_word, dtype: int64\n",
            "4.0    5\n",
            "Name: Sr_No_of_word, dtype: int64\n",
            "9.0    10\n",
            "Name: Sr_No_of_word, dtype: int64\n",
            "6.0    7\n",
            "Name: Sr_No_of_word, dtype: int64\n",
            "2.0    3\n",
            "Name: Sr_No_of_word, dtype: int64\n",
            "4.0    5\n",
            "Name: Sr_No_of_word, dtype: int64\n",
            "4.0    5\n",
            "Name: Sr_No_of_word, dtype: int64\n",
            "5.0    6\n",
            "Name: Sr_No_of_word, dtype: int64\n",
            "7.0    8\n",
            "Name: Sr_No_of_word, dtype: int64\n",
            "4.0    5\n",
            "Name: Sr_No_of_word, dtype: int64\n",
            "2.0    3\n",
            "Name: Sr_No_of_word, dtype: int64\n",
            "4.0    5\n",
            "Name: Sr_No_of_word, dtype: int64\n",
            "9.0    10\n",
            "Name: Sr_No_of_word, dtype: int64\n",
            "8.0    9\n",
            "Name: Sr_No_of_word, dtype: int64\n",
            "2.0    3\n",
            "Name: Sr_No_of_word, dtype: int64\n",
            "4.0    5\n",
            "Name: Sr_No_of_word, dtype: int64\n",
            "5.0    6\n",
            "Name: Sr_No_of_word, dtype: int64\n",
            "3.0    4\n",
            "Name: Sr_No_of_word, dtype: int64\n",
            "5.0    6\n",
            "Name: Sr_No_of_word, dtype: int64\n",
            "4.0    5\n",
            "Name: Sr_No_of_word, dtype: int64\n",
            "4.0    5\n",
            "Name: Sr_No_of_word, dtype: int64\n",
            "3.0    4\n",
            "Name: Sr_No_of_word, dtype: int64\n",
            "4.0    5\n",
            "Name: Sr_No_of_word, dtype: int64\n",
            "4.0    5\n",
            "Name: Sr_No_of_word, dtype: int64\n",
            "7.0    8\n",
            "Name: Sr_No_of_word, dtype: int64\n",
            "2.0    3\n",
            "Name: Sr_No_of_word, dtype: int64\n",
            "8.0    9\n",
            "Name: Sr_No_of_word, dtype: int64\n",
            "4.0    5\n",
            "Name: Sr_No_of_word, dtype: int64\n",
            "2.0    3\n",
            "Name: Sr_No_of_word, dtype: int64\n",
            "4.0    5\n",
            "Name: Sr_No_of_word, dtype: int64\n",
            "6.0    7\n",
            "Name: Sr_No_of_word, dtype: int64\n",
            "7.0    8\n",
            "Name: Sr_No_of_word, dtype: int64\n",
            "4.0    5\n",
            "Name: Sr_No_of_word, dtype: int64\n",
            "5.0    6\n",
            "Name: Sr_No_of_word, dtype: int64\n",
            "4.0    5\n",
            "Name: Sr_No_of_word, dtype: int64\n",
            "5.0    6\n",
            "Name: Sr_No_of_word, dtype: int64\n",
            "3.0    4\n",
            "Name: Sr_No_of_word, dtype: int64\n",
            "4.0    5\n",
            "Name: Sr_No_of_word, dtype: int64\n",
            "4.0    5\n",
            "Name: Sr_No_of_word, dtype: int64\n",
            "2.0    3\n",
            "Name: Sr_No_of_word, dtype: int64\n",
            "4.0    5\n",
            "Name: Sr_No_of_word, dtype: int64\n",
            "4.0    5\n",
            "Name: Sr_No_of_word, dtype: int64\n",
            "4.0    5\n",
            "Name: Sr_No_of_word, dtype: int64\n",
            "6.0    7\n",
            "Name: Sr_No_of_word, dtype: int64\n",
            "5.0    6\n",
            "Name: Sr_No_of_word, dtype: int64\n",
            "3.0    4\n",
            "Name: Sr_No_of_word, dtype: int64\n",
            "5.0    6\n",
            "Name: Sr_No_of_word, dtype: int64\n",
            "4.0    5\n",
            "Name: Sr_No_of_word, dtype: int64\n",
            "1.0    2\n",
            "Name: Sr_No_of_word, dtype: int64\n",
            "3.0    4\n",
            "Name: Sr_No_of_word, dtype: int64\n",
            "5.0    6\n",
            "Name: Sr_No_of_word, dtype: int64\n",
            "2.0    3\n",
            "Name: Sr_No_of_word, dtype: int64\n",
            "7.0    8\n",
            "Name: Sr_No_of_word, dtype: int64\n",
            "3.0    4\n",
            "Name: Sr_No_of_word, dtype: int64\n",
            "4.0    5\n",
            "Name: Sr_No_of_word, dtype: int64\n",
            "10.0    11\n",
            "Name: Sr_No_of_word, dtype: int64\n",
            "2.0    3\n",
            "Name: Sr_No_of_word, dtype: int64\n",
            "3.0    4\n",
            "Name: Sr_No_of_word, dtype: int64\n",
            "6.0    7\n",
            "Name: Sr_No_of_word, dtype: int64\n",
            "2.0    3\n",
            "Name: Sr_No_of_word, dtype: int64\n",
            "3.0    4\n",
            "Name: Sr_No_of_word, dtype: int64\n",
            "6.0    7\n",
            "Name: Sr_No_of_word, dtype: int64\n",
            "3.0    4\n",
            "Name: Sr_No_of_word, dtype: int64\n",
            "3.0    4\n",
            "Name: Sr_No_of_word, dtype: int64\n",
            "6.0    7\n",
            "Name: Sr_No_of_word, dtype: int64\n",
            "5.0    6\n",
            "Name: Sr_No_of_word, dtype: int64\n",
            "3.0    4\n",
            "Name: Sr_No_of_word, dtype: int64\n",
            "6.0    7\n",
            "Name: Sr_No_of_word, dtype: int64\n",
            "4.0    5\n",
            "Name: Sr_No_of_word, dtype: int64\n",
            "3.0    4\n",
            "Name: Sr_No_of_word, dtype: int64\n",
            "5.0    6\n",
            "Name: Sr_No_of_word, dtype: int64\n"
          ]
        }
      ]
    },
    {
      "cell_type": "markdown",
      "source": [
        "**Q7.**\n",
        "\n",
        "        Calculate Z-score for [4,5,6,6,6,7,8,12,13,13,14,18]."
      ],
      "metadata": {
        "id": "WBqtIf5vdN0E"
      }
    },
    {
      "cell_type": "code",
      "source": [
        "values = [4,5,6,6,6,7,8,12,13,13,14,18]\n",
        "mean = sum(values) / len(values)\n",
        "differences = [(value - mean)**2 for value in values]\n",
        "sum_of_differences = sum(differences)\n",
        "standard_deviation = (sum_of_differences / (len(values) - 1)) ** 0.5\n",
        "print(standard_deviation)\n",
        "zscores = [(value - mean) / standard_deviation for value in values]\n",
        "print(zscores)"
      ],
      "metadata": {
        "colab": {
          "base_uri": "https://localhost:8080/"
        },
        "id": "kx1_ryXadaZU",
        "outputId": "17aa50be-6fad-4a7f-97e1-e00f4c20d3d5"
      },
      "execution_count": null,
      "outputs": [
        {
          "output_type": "stream",
          "name": "stdout",
          "text": [
            "4.458563432181702\n",
            "[-1.1961999452194811, -0.9719124554908285, -0.7476249657621759, -0.7476249657621759, -0.7476249657621759, -0.5233374760335231, -0.2990499863048704, 0.5980999726097405, 0.8223874623383931, 0.8223874623383931, 1.0466749520670457, 1.9438249109816566]\n"
          ]
        }
      ]
    },
    {
      "cell_type": "markdown",
      "source": [
        "**Q8.**\n",
        "\n",
        "\n",
        "        Draw scattered plot & find correlation coefficient for the given data."
      ],
      "metadata": {
        "id": "atME3R5Hda4T"
      }
    },
    {
      "cell_type": "code",
      "source": [
        "st = pd.read_csv('stats2.csv')"
      ],
      "metadata": {
        "id": "eB77sd8bdnpF"
      },
      "execution_count": null,
      "outputs": []
    },
    {
      "cell_type": "code",
      "source": [
        "st"
      ],
      "metadata": {
        "colab": {
          "base_uri": "https://localhost:8080/",
          "height": 363
        },
        "id": "MoGDA2IueQMz",
        "outputId": "2afa0ff1-3a17-4caf-c565-b849d66b10d5"
      },
      "execution_count": null,
      "outputs": [
        {
          "output_type": "execute_result",
          "data": {
            "text/plain": [
              "      x    y\n",
              "0  14.2  215\n",
              "1  16.4  325\n",
              "2  11.9  185\n",
              "3  15.2  332\n",
              "4  18.5  406\n",
              "5  22.1  522\n",
              "6  19.4  412\n",
              "7  25.1  614\n",
              "8  23.4  544\n",
              "9  18.1  421"
            ],
            "text/html": [
              "\n",
              "  <div id=\"df-c49a8d98-d6bc-4427-95aa-dcd5c0ee941b\">\n",
              "    <div class=\"colab-df-container\">\n",
              "      <div>\n",
              "<style scoped>\n",
              "    .dataframe tbody tr th:only-of-type {\n",
              "        vertical-align: middle;\n",
              "    }\n",
              "\n",
              "    .dataframe tbody tr th {\n",
              "        vertical-align: top;\n",
              "    }\n",
              "\n",
              "    .dataframe thead th {\n",
              "        text-align: right;\n",
              "    }\n",
              "</style>\n",
              "<table border=\"1\" class=\"dataframe\">\n",
              "  <thead>\n",
              "    <tr style=\"text-align: right;\">\n",
              "      <th></th>\n",
              "      <th>x</th>\n",
              "      <th>y</th>\n",
              "    </tr>\n",
              "  </thead>\n",
              "  <tbody>\n",
              "    <tr>\n",
              "      <th>0</th>\n",
              "      <td>14.2</td>\n",
              "      <td>215</td>\n",
              "    </tr>\n",
              "    <tr>\n",
              "      <th>1</th>\n",
              "      <td>16.4</td>\n",
              "      <td>325</td>\n",
              "    </tr>\n",
              "    <tr>\n",
              "      <th>2</th>\n",
              "      <td>11.9</td>\n",
              "      <td>185</td>\n",
              "    </tr>\n",
              "    <tr>\n",
              "      <th>3</th>\n",
              "      <td>15.2</td>\n",
              "      <td>332</td>\n",
              "    </tr>\n",
              "    <tr>\n",
              "      <th>4</th>\n",
              "      <td>18.5</td>\n",
              "      <td>406</td>\n",
              "    </tr>\n",
              "    <tr>\n",
              "      <th>5</th>\n",
              "      <td>22.1</td>\n",
              "      <td>522</td>\n",
              "    </tr>\n",
              "    <tr>\n",
              "      <th>6</th>\n",
              "      <td>19.4</td>\n",
              "      <td>412</td>\n",
              "    </tr>\n",
              "    <tr>\n",
              "      <th>7</th>\n",
              "      <td>25.1</td>\n",
              "      <td>614</td>\n",
              "    </tr>\n",
              "    <tr>\n",
              "      <th>8</th>\n",
              "      <td>23.4</td>\n",
              "      <td>544</td>\n",
              "    </tr>\n",
              "    <tr>\n",
              "      <th>9</th>\n",
              "      <td>18.1</td>\n",
              "      <td>421</td>\n",
              "    </tr>\n",
              "  </tbody>\n",
              "</table>\n",
              "</div>\n",
              "      <button class=\"colab-df-convert\" onclick=\"convertToInteractive('df-c49a8d98-d6bc-4427-95aa-dcd5c0ee941b')\"\n",
              "              title=\"Convert this dataframe to an interactive table.\"\n",
              "              style=\"display:none;\">\n",
              "        \n",
              "  <svg xmlns=\"http://www.w3.org/2000/svg\" height=\"24px\"viewBox=\"0 0 24 24\"\n",
              "       width=\"24px\">\n",
              "    <path d=\"M0 0h24v24H0V0z\" fill=\"none\"/>\n",
              "    <path d=\"M18.56 5.44l.94 2.06.94-2.06 2.06-.94-2.06-.94-.94-2.06-.94 2.06-2.06.94zm-11 1L8.5 8.5l.94-2.06 2.06-.94-2.06-.94L8.5 2.5l-.94 2.06-2.06.94zm10 10l.94 2.06.94-2.06 2.06-.94-2.06-.94-.94-2.06-.94 2.06-2.06.94z\"/><path d=\"M17.41 7.96l-1.37-1.37c-.4-.4-.92-.59-1.43-.59-.52 0-1.04.2-1.43.59L10.3 9.45l-7.72 7.72c-.78.78-.78 2.05 0 2.83L4 21.41c.39.39.9.59 1.41.59.51 0 1.02-.2 1.41-.59l7.78-7.78 2.81-2.81c.8-.78.8-2.07 0-2.86zM5.41 20L4 18.59l7.72-7.72 1.47 1.35L5.41 20z\"/>\n",
              "  </svg>\n",
              "      </button>\n",
              "      \n",
              "  <style>\n",
              "    .colab-df-container {\n",
              "      display:flex;\n",
              "      flex-wrap:wrap;\n",
              "      gap: 12px;\n",
              "    }\n",
              "\n",
              "    .colab-df-convert {\n",
              "      background-color: #E8F0FE;\n",
              "      border: none;\n",
              "      border-radius: 50%;\n",
              "      cursor: pointer;\n",
              "      display: none;\n",
              "      fill: #1967D2;\n",
              "      height: 32px;\n",
              "      padding: 0 0 0 0;\n",
              "      width: 32px;\n",
              "    }\n",
              "\n",
              "    .colab-df-convert:hover {\n",
              "      background-color: #E2EBFA;\n",
              "      box-shadow: 0px 1px 2px rgba(60, 64, 67, 0.3), 0px 1px 3px 1px rgba(60, 64, 67, 0.15);\n",
              "      fill: #174EA6;\n",
              "    }\n",
              "\n",
              "    [theme=dark] .colab-df-convert {\n",
              "      background-color: #3B4455;\n",
              "      fill: #D2E3FC;\n",
              "    }\n",
              "\n",
              "    [theme=dark] .colab-df-convert:hover {\n",
              "      background-color: #434B5C;\n",
              "      box-shadow: 0px 1px 3px 1px rgba(0, 0, 0, 0.15);\n",
              "      filter: drop-shadow(0px 1px 2px rgba(0, 0, 0, 0.3));\n",
              "      fill: #FFFFFF;\n",
              "    }\n",
              "  </style>\n",
              "\n",
              "      <script>\n",
              "        const buttonEl =\n",
              "          document.querySelector('#df-c49a8d98-d6bc-4427-95aa-dcd5c0ee941b button.colab-df-convert');\n",
              "        buttonEl.style.display =\n",
              "          google.colab.kernel.accessAllowed ? 'block' : 'none';\n",
              "\n",
              "        async function convertToInteractive(key) {\n",
              "          const element = document.querySelector('#df-c49a8d98-d6bc-4427-95aa-dcd5c0ee941b');\n",
              "          const dataTable =\n",
              "            await google.colab.kernel.invokeFunction('convertToInteractive',\n",
              "                                                     [key], {});\n",
              "          if (!dataTable) return;\n",
              "\n",
              "          const docLinkHtml = 'Like what you see? Visit the ' +\n",
              "            '<a target=\"_blank\" href=https://colab.research.google.com/notebooks/data_table.ipynb>data table notebook</a>'\n",
              "            + ' to learn more about interactive tables.';\n",
              "          element.innerHTML = '';\n",
              "          dataTable['output_type'] = 'display_data';\n",
              "          await google.colab.output.renderOutput(dataTable, element);\n",
              "          const docLink = document.createElement('div');\n",
              "          docLink.innerHTML = docLinkHtml;\n",
              "          element.appendChild(docLink);\n",
              "        }\n",
              "      </script>\n",
              "    </div>\n",
              "  </div>\n",
              "  "
            ]
          },
          "metadata": {},
          "execution_count": 42
        }
      ]
    },
    {
      "cell_type": "code",
      "source": [
        "s = st['x']\n",
        "t = st['y']"
      ],
      "metadata": {
        "id": "ofIjxj9Pex9D"
      },
      "execution_count": null,
      "outputs": []
    },
    {
      "cell_type": "code",
      "source": [
        "st.corr()"
      ],
      "metadata": {
        "colab": {
          "base_uri": "https://localhost:8080/",
          "height": 112
        },
        "id": "lw9rokj1eQr2",
        "outputId": "3ade70d8-5b0a-41df-c427-e6de8eedda7b"
      },
      "execution_count": null,
      "outputs": [
        {
          "output_type": "execute_result",
          "data": {
            "text/plain": [
              "          x         y\n",
              "x  1.000000  0.984296\n",
              "y  0.984296  1.000000"
            ],
            "text/html": [
              "\n",
              "  <div id=\"df-aafa799c-e41c-4471-abd4-616b55749563\">\n",
              "    <div class=\"colab-df-container\">\n",
              "      <div>\n",
              "<style scoped>\n",
              "    .dataframe tbody tr th:only-of-type {\n",
              "        vertical-align: middle;\n",
              "    }\n",
              "\n",
              "    .dataframe tbody tr th {\n",
              "        vertical-align: top;\n",
              "    }\n",
              "\n",
              "    .dataframe thead th {\n",
              "        text-align: right;\n",
              "    }\n",
              "</style>\n",
              "<table border=\"1\" class=\"dataframe\">\n",
              "  <thead>\n",
              "    <tr style=\"text-align: right;\">\n",
              "      <th></th>\n",
              "      <th>x</th>\n",
              "      <th>y</th>\n",
              "    </tr>\n",
              "  </thead>\n",
              "  <tbody>\n",
              "    <tr>\n",
              "      <th>x</th>\n",
              "      <td>1.000000</td>\n",
              "      <td>0.984296</td>\n",
              "    </tr>\n",
              "    <tr>\n",
              "      <th>y</th>\n",
              "      <td>0.984296</td>\n",
              "      <td>1.000000</td>\n",
              "    </tr>\n",
              "  </tbody>\n",
              "</table>\n",
              "</div>\n",
              "      <button class=\"colab-df-convert\" onclick=\"convertToInteractive('df-aafa799c-e41c-4471-abd4-616b55749563')\"\n",
              "              title=\"Convert this dataframe to an interactive table.\"\n",
              "              style=\"display:none;\">\n",
              "        \n",
              "  <svg xmlns=\"http://www.w3.org/2000/svg\" height=\"24px\"viewBox=\"0 0 24 24\"\n",
              "       width=\"24px\">\n",
              "    <path d=\"M0 0h24v24H0V0z\" fill=\"none\"/>\n",
              "    <path d=\"M18.56 5.44l.94 2.06.94-2.06 2.06-.94-2.06-.94-.94-2.06-.94 2.06-2.06.94zm-11 1L8.5 8.5l.94-2.06 2.06-.94-2.06-.94L8.5 2.5l-.94 2.06-2.06.94zm10 10l.94 2.06.94-2.06 2.06-.94-2.06-.94-.94-2.06-.94 2.06-2.06.94z\"/><path d=\"M17.41 7.96l-1.37-1.37c-.4-.4-.92-.59-1.43-.59-.52 0-1.04.2-1.43.59L10.3 9.45l-7.72 7.72c-.78.78-.78 2.05 0 2.83L4 21.41c.39.39.9.59 1.41.59.51 0 1.02-.2 1.41-.59l7.78-7.78 2.81-2.81c.8-.78.8-2.07 0-2.86zM5.41 20L4 18.59l7.72-7.72 1.47 1.35L5.41 20z\"/>\n",
              "  </svg>\n",
              "      </button>\n",
              "      \n",
              "  <style>\n",
              "    .colab-df-container {\n",
              "      display:flex;\n",
              "      flex-wrap:wrap;\n",
              "      gap: 12px;\n",
              "    }\n",
              "\n",
              "    .colab-df-convert {\n",
              "      background-color: #E8F0FE;\n",
              "      border: none;\n",
              "      border-radius: 50%;\n",
              "      cursor: pointer;\n",
              "      display: none;\n",
              "      fill: #1967D2;\n",
              "      height: 32px;\n",
              "      padding: 0 0 0 0;\n",
              "      width: 32px;\n",
              "    }\n",
              "\n",
              "    .colab-df-convert:hover {\n",
              "      background-color: #E2EBFA;\n",
              "      box-shadow: 0px 1px 2px rgba(60, 64, 67, 0.3), 0px 1px 3px 1px rgba(60, 64, 67, 0.15);\n",
              "      fill: #174EA6;\n",
              "    }\n",
              "\n",
              "    [theme=dark] .colab-df-convert {\n",
              "      background-color: #3B4455;\n",
              "      fill: #D2E3FC;\n",
              "    }\n",
              "\n",
              "    [theme=dark] .colab-df-convert:hover {\n",
              "      background-color: #434B5C;\n",
              "      box-shadow: 0px 1px 3px 1px rgba(0, 0, 0, 0.15);\n",
              "      filter: drop-shadow(0px 1px 2px rgba(0, 0, 0, 0.3));\n",
              "      fill: #FFFFFF;\n",
              "    }\n",
              "  </style>\n",
              "\n",
              "      <script>\n",
              "        const buttonEl =\n",
              "          document.querySelector('#df-aafa799c-e41c-4471-abd4-616b55749563 button.colab-df-convert');\n",
              "        buttonEl.style.display =\n",
              "          google.colab.kernel.accessAllowed ? 'block' : 'none';\n",
              "\n",
              "        async function convertToInteractive(key) {\n",
              "          const element = document.querySelector('#df-aafa799c-e41c-4471-abd4-616b55749563');\n",
              "          const dataTable =\n",
              "            await google.colab.kernel.invokeFunction('convertToInteractive',\n",
              "                                                     [key], {});\n",
              "          if (!dataTable) return;\n",
              "\n",
              "          const docLinkHtml = 'Like what you see? Visit the ' +\n",
              "            '<a target=\"_blank\" href=https://colab.research.google.com/notebooks/data_table.ipynb>data table notebook</a>'\n",
              "            + ' to learn more about interactive tables.';\n",
              "          element.innerHTML = '';\n",
              "          dataTable['output_type'] = 'display_data';\n",
              "          await google.colab.output.renderOutput(dataTable, element);\n",
              "          const docLink = document.createElement('div');\n",
              "          docLink.innerHTML = docLinkHtml;\n",
              "          element.appendChild(docLink);\n",
              "        }\n",
              "      </script>\n",
              "    </div>\n",
              "  </div>\n",
              "  "
            ]
          },
          "metadata": {},
          "execution_count": 43
        }
      ]
    },
    {
      "cell_type": "code",
      "source": [
        "fig, ax = plt.subplots(figsize=(5, 4))\n",
        "ax = sns.heatmap(st.corr(), vmin=-1, vmax=1, \n",
        "                 cmap=sns.diverging_palette(20, 220, as_cmap=True),\n",
        "                 ax=ax)\n",
        "\n",
        "plt.tight_layout()\n",
        "plt.show()"
      ],
      "metadata": {
        "colab": {
          "base_uri": "https://localhost:8080/",
          "height": 297
        },
        "id": "kyCXWetLeUGD",
        "outputId": "241f071a-5be6-4436-b674-fdcbdfa743c8"
      },
      "execution_count": null,
      "outputs": [
        {
          "output_type": "display_data",
          "data": {
            "text/plain": [
              "<Figure size 360x288 with 2 Axes>"
            ],
            "image/png": "[encoded data removed]"
          },
          "metadata": {
            "needs_background": "light"
          }
        }
      ]
    },
    {
      "cell_type": "code",
      "source": [
        "from matplotlib.collections import EllipseCollection\n",
        "from matplotlib.colors import Normalize\n",
        "\n",
        "def plot_corr_ellipses(data, figsize=None, **kwargs):\n",
        "    ''' https://stackoverflow.com/a/34558488 '''\n",
        "    M = np.array(data)\n",
        "    if not M.ndim == 2:\n",
        "        raise ValueError('data must be a 2D array')\n",
        "    fig, ax = plt.subplots(1, 1, figsize=figsize, subplot_kw={'aspect':'equal'})\n",
        "    ax.set_xlim(-0.5, M.shape[1] - 0.5)\n",
        "    ax.set_ylim(-0.5, M.shape[0] - 0.5)\n",
        "    ax.invert_yaxis()\n",
        "\n",
        "    # xy locations of each ellipse center\n",
        "    xy = np.indices(M.shape)[::-1].reshape(2, -1).T\n",
        "\n",
        "    # set the relative sizes of the major/minor axes according to the strength of\n",
        "    # the positive/negative correlation\n",
        "    w = np.ones_like(M).ravel() + 0.01\n",
        "    h = 1 - np.abs(M).ravel() - 0.01\n",
        "    a = 45 * np.sign(M).ravel()\n",
        "\n",
        "    ec = EllipseCollection(widths=w, heights=h, angles=a, units='x', offsets=xy,\n",
        "                           norm=Normalize(vmin=-1, vmax=1),\n",
        "                           transOffset=ax.transData, array=M.ravel(), **kwargs)\n",
        "    ax.add_collection(ec)\n",
        "\n",
        "    # if data is a DataFrame, use the row/column names as tick labels\n",
        "    if isinstance(data, pd.DataFrame):\n",
        "        ax.set_xticks(np.arange(M.shape[1]))\n",
        "        ax.set_xticklabels(data.columns, rotation=90)\n",
        "        ax.set_yticks(np.arange(M.shape[0]))\n",
        "        ax.set_yticklabels(data.index)\n",
        "\n",
        "    return ec, ax\n",
        "\n",
        "m, ax = plot_corr_ellipses(st.corr(), figsize=(5, 4), cmap='bwr_r')\n",
        "cb = fig.colorbar(m, ax=ax)\n",
        "cb.set_label('Correlation coefficient')\n",
        "\n",
        "plt.tight_layout()\n",
        "plt.show()"
      ],
      "metadata": {
        "colab": {
          "base_uri": "https://localhost:8080/",
          "height": 297
        },
        "id": "Rxd6yzcGeevn",
        "outputId": "78dc6ca2-e09a-495b-a33a-0ca799d07566"
      },
      "execution_count": null,
      "outputs": [
        {
          "output_type": "display_data",
          "data": {
            "text/plain": [
              "<Figure size 360x288 with 2 Axes>"
            ],
            "image/png": "[encoded data removed]"
          },
          "metadata": {
            "needs_background": "light"
          }
        }
      ]
    },
    {
      "cell_type": "code",
      "source": [
        "plt.scatter(s,t)"
      ],
      "metadata": {
        "colab": {
          "base_uri": "https://localhost:8080/",
          "height": 282
        },
        "id": "qJi5X8Vcelan",
        "outputId": "77eb3cd8-5b80-4d11-c9a4-a19137cf71d3"
      },
      "execution_count": null,
      "outputs": [
        {
          "output_type": "execute_result",
          "data": {
            "text/plain": [
              "<matplotlib.collections.PathCollection at 0x7ff656961710>"
            ]
          },
          "metadata": {},
          "execution_count": 47
        },
        {
          "output_type": "display_data",
          "data": {
            "text/plain": [
              "<Figure size 432x288 with 1 Axes>"
            ],
            "image/png": "[encoded data removed]"
          },
          "metadata": {
            "needs_background": "light"
          }
        }
      ]
    },
    {
      "cell_type": "code",
      "source": [],
      "metadata": {
        "id": "E1bs0dLRe5Z1"
      },
      "execution_count": null,
      "outputs": []
    }
  ]
}